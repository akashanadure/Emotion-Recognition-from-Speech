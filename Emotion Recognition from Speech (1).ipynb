{
 "cells": [
  {
   "cell_type": "code",
   "execution_count": null,
   "id": "2df13258-1dc1-46cd-a64a-6de2426fc0bb",
   "metadata": {},
   "outputs": [],
   "source": [
    "import pandas as pd\n",
    "import numpy as np\n",
    "import librosa \n",
    "import os\n",
    "from sklearn.model_selection import train_test_split\n",
    "from sklearn.ensemble import RandomForestClassifier\n",
    "from sklearn.metrics import accuracy_score,classification_report,confusion_matrix"
   ]
  },
  {
   "cell_type": "code",
   "execution_count": null,
   "id": "0808cf96-47f7-4132-99ec-9e7ed9a71032",
   "metadata": {},
   "outputs": [],
   "source": [
    "#Load RAVDESS dataset\n",
    "rav_path='Actor_01/03-01-01-01-01-01-01.wav'\n",
    "files=glob.glob(rav_path)"
   ]
  },
  {
   "cell_type": "code",
   "execution_count": null,
   "id": "4773950c-4d01-4c82-9bb2-7ac9511bf60a",
   "metadata": {},
   "outputs": [],
   "source": [
    "#Create lists to store file paths and emotions\n",
    "file_paths=[]\n",
    "emotions=[]"
   ]
  },
  {
   "cell_type": "code",
   "execution_count": null,
   "id": "c73c0625-7460-42c8-9bad-885da61d66c2",
   "metadata": {},
   "outputs": [],
   "source": [
    "#Map emotions to integer labels \n",
    "emotion_map = {\n",
    "        '01': 'neutral',\n",
    "        '02': 'calm',\n",
    "        '03': 'happy',\n",
    "        '04': 'sad',\n",
    "        '05': 'angry',\n",
    "        '06': 'fearful',\n",
    "        '07': 'disgust',\n",
    "        '08': 'surprised'\n",
    "}"
   ]
  },
  {
   "cell_type": "code",
   "execution_count": null,
   "id": "85bee12f-96d0-4cc9-9283-e66c6012a327",
   "metadata": {},
   "outputs": [],
   "source": [
    "#Load audio files and extract emotions\n",
    "for file in files:\n",
    "       file_paths.append(file)\n",
    "       emotion = file.split('/')[-1].split('.')[0][6:8]\n",
    "       emotions.append(emotion_map[emotion])"
   ]
  },
  {
   "cell_type": "code",
   "execution_count": null,
   "id": "38086f58-2131-4a1f-9bd0-292f859f9a1d",
   "metadata": {},
   "outputs": [],
   "source": [
    "#Convert emotions to integer labels\n",
    "labels = np.array([list(emotion_map.keys()).index(e) for e in emotions])"
   ]
  },
  {
   "cell_type": "code",
   "execution_count": null,
   "id": "1ff08d4f-7808-4858-bb89-e1c10738ae3c",
   "metadata": {},
   "outputs": [],
   "source": [
    "#Extract audio features using Librosa\n",
    "X = []\n",
    "for file in file_paths:\n",
    "      audio,sr = librosa.load(file)\n",
    "      mfccs = librosa.feature.mfcc(audio,sr=sr)\n",
    "         X.append(mfccs.mean(axis=1))"
   ]
  },
  {
   "cell_type": "code",
   "execution_count": null,
   "id": "a3a01c17-92e3-40d9-93c5-8bd379bd0ddb",
   "metadata": {},
   "outputs": [],
   "source": [
    "#Convert X to numpy array\n",
    "X = np.array(X)\n",
    "\n",
    "#Split data into training and testing sets\n",
    "X_train, X_test, Y_train, Y_test = train_test_split(X, labels, test_size=0.2, random_state=42)\n",
    "\n",
    "#Train a random forest classifier\n",
    "model = RandomForestClassifier(n_estimators=100)\n",
    "model.fit(X_train, Y_train)"
   ]
  },
  {
   "cell_type": "code",
   "execution_count": null,
   "id": "526ac62b-7d1b-4b54-9c2e-678db9e07d74",
   "metadata": {},
   "outputs": [],
   "source": [
    "#Make predictions\n",
    "y_pred = model.predict(X_test)"
   ]
  },
  {
   "cell_type": "code",
   "execution_count": null,
   "id": "827f3515-6af7-4c50-a4a1-284b9a97ea2b",
   "metadata": {},
   "outputs": [],
   "source": [
    "#Evaluate model performance\n",
    "print(\"Accuracy:\", accuacy_score(Y_test, y_pred))\n",
    "print(\"Classification Report:\\n\", classification_report(Y_test, y_pred))\n",
    "print(\"Confusion Matrix:\\n\", confusion_matrix(Y_test, y_pred))"
   ]
  },
  {
   "cell_type": "code",
   "execution_count": null,
   "id": "75488f44-7f12-493b-b4f2-215e88005390",
   "metadata": {},
   "outputs": [],
   "source": []
  }
 ],
 "metadata": {
  "kernelspec": {
   "display_name": "Python 3 (ipykernel)",
   "language": "python",
   "name": "python3"
  },
  "language_info": {
   "codemirror_mode": {
    "name": "ipython",
    "version": 3
   },
   "file_extension": ".py",
   "mimetype": "text/x-python",
   "name": "python",
   "nbconvert_exporter": "python",
   "pygments_lexer": "ipython3",
   "version": "3.12.4"
  }
 },
 "nbformat": 4,
 "nbformat_minor": 5
}
